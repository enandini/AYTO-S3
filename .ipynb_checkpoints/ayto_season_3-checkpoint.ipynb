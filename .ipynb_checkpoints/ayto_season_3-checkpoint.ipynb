{
 "cells": [
  {
   "cell_type": "markdown",
   "metadata": {
    "colab_type": "text",
    "id": "view-in-github"
   },
   "source": [
    "<a href=\"https://colab.research.google.com/github/enandini/AYTO-S3/blob/main/ayto_season_3.ipynb\" target=\"_parent\"><img src=\"https://colab.research.google.com/assets/colab-badge.svg\" alt=\"Open In Colab\"/></a>"
   ]
  },
  {
   "cell_type": "markdown",
   "metadata": {
    "id": "JNbxNqm7FCTs"
   },
   "source": [
    "# Preliminarys"
   ]
  },
  {
   "cell_type": "code",
   "execution_count": null,
   "metadata": {
    "id": "icBjqOFmgWUv"
   },
   "outputs": [],
   "source": [
    "import itertools\n",
    "import numpy as np\n",
    "import math\n",
    "import pandas as pd\n",
    "import seaborn as sns"
   ]
  },
  {
   "cell_type": "markdown",
   "metadata": {},
   "source": [
    "Generate all permutations of women and men."
   ]
  },
  {
   "cell_type": "code",
   "execution_count": null,
   "metadata": {},
   "outputs": [],
   "source": [
    "list1=[\"Hannah\", \"Rashida\", \"Amanda\", \"Melanie\", \"Chelsey\", \"Kiki\", \"Stacy\", \"Britni\", \"Cheyene\", \"Kayla\"]\n",
    "list2=[\"Chuck\", \"Tyler\", \"Mike\", \"Devin\", \"Connor\", \"Austin\", \"Alec\", \"Hunter\", \"Nelson\", \"Zak\"]\n",
    "\n",
    "perms = [list(zip(x,list2)) for x in itertools.permutations(list1,len(list2))]\n",
    "\n",
    "truth_booths = []\n",
    "matchups = []\n",
    "\n",
    "print(\"Starting matches: \" + str(math.factorial(10)))"
   ]
  },
  {
   "cell_type": "markdown",
   "metadata": {},
   "source": [
    "Function that checks the permutation against all truth booths."
   ]
  },
  {
   "cell_type": "code",
   "execution_count": null,
   "metadata": {
    "id": "X-15c_CxcoxG"
   },
   "outputs": [],
   "source": [
    "def check_truth_booths(perm, tbs):\n",
    "  for tb in tbs:\n",
    "    if tb[1] == False and tb[0] in perm:\n",
    "      return False\n",
    "    elif tb[1] == True and tb[0] not in perm:\n",
    "      return False    \n",
    "  return True"
   ]
  },
  {
   "cell_type": "markdown",
   "metadata": {},
   "source": [
    "Function that checks the permutation against all matchups."
   ]
  },
  {
   "cell_type": "code",
   "execution_count": null,
   "metadata": {
    "id": "2uiHhj2tcD_N"
   },
   "outputs": [],
   "source": [
    "def check_matchups(perm, ms):\n",
    "  for m in ms:\n",
    "    limit = m[-1]\n",
    "    matches = 0\n",
    "    for pair in perm:\n",
    "      if pair in m:\n",
    "        matches += 1\n",
    "    if matches != limit:\n",
    "      return False\n",
    "  return True"
   ]
  },
  {
   "cell_type": "markdown",
   "metadata": {},
   "source": [
    "Function that generates the list of remaining permutations after checking them. Number of permutations generally decreases after new information is added."
   ]
  },
  {
   "cell_type": "code",
   "execution_count": null,
   "metadata": {},
   "outputs": [],
   "source": [
    "def generate_remaining_perms(ps, tbs, ms):\n",
    "    nu_perms = []\n",
    "    match_dict = {}\n",
    "\n",
    "    for i in list1:\n",
    "        match_dict[i] = {}\n",
    "        for j in list2:\n",
    "            match_dict[i][j] = 0\n",
    "\n",
    "    valid_perms = 0\n",
    "    for i in ps:\n",
    "      if check_truth_booths(i, tbs) == False:\n",
    "        pass\n",
    "      elif check_matchups(i, ms) == False:\n",
    "        pass\n",
    "      else:\n",
    "        for pair in i:\n",
    "          match_dict[pair[0]][pair[1]] += 1\n",
    "        valid_perms += 1\n",
    "        nu_perms.append(i)\n",
    "\n",
    "    print(str(valid_perms) + \" remaining permutations.\")\n",
    "    \n",
    "    sns.heatmap(np.round((pd.DataFrame(match_dict)/valid_perms)*100,2), annot=True)\n",
    "\n",
    "    return nu_perms"
   ]
  },
  {
   "cell_type": "markdown",
   "metadata": {
    "id": "sYlILh5QE3Bm"
   },
   "source": [
    "## Week 1 Data"
   ]
  },
  {
   "cell_type": "markdown",
   "metadata": {},
   "source": [
    "#### Week 1 Truth Booth"
   ]
  },
  {
   "cell_type": "code",
   "execution_count": null,
   "metadata": {
    "id": "t0AyRC8DE00g"
   },
   "outputs": [],
   "source": [
    "truth_booths.append([(\"Kiki\",\"Hunter\"), False])\n",
    "perms = generate_remaining_perms(perms, truth_booths, matchups)"
   ]
  },
  {
   "cell_type": "markdown",
   "metadata": {},
   "source": [
    "#### Week 1 Matchup"
   ]
  },
  {
   "cell_type": "code",
   "execution_count": null,
   "metadata": {},
   "outputs": [],
   "source": [
    "matchups.append([(\"Hannah\",\"Chuck\"),\n",
    "                 (\"Rashida\", \"Tyler\"),\n",
    "                 (\"Amanda\", \"Mike\"),\n",
    "                 (\"Melanie\", \"Devin\"),\n",
    "                 (\"Chelsey\", \"Connor\"),\n",
    "                 (\"Kiki\", \"Austin\"),\n",
    "                 (\"Stacy\", \"Alec\"),\n",
    "                 (\"Britni\", \"Hunter\"),\n",
    "                 (\"Cheyene\", \"Nelson\"),\n",
    "                 (\"Kayla\", \"Zak\"),2])\n",
    "perms = generate_remaining_perms(perms, truth_booths, matchups)"
   ]
  },
  {
   "cell_type": "markdown",
   "metadata": {
    "id": "z3EcEPeskOJF"
   },
   "source": [
    "## Week 2 Data"
   ]
  },
  {
   "cell_type": "markdown",
   "metadata": {},
   "source": [
    "#### Week 2 Truth Booth"
   ]
  },
  {
   "cell_type": "code",
   "execution_count": null,
   "metadata": {
    "id": "eHZN-JJukNk2"
   },
   "outputs": [],
   "source": [
    "truth_booths.append([(\"Kiki\",\"Devin\"), False])\n",
    "perms = generate_remaining_perms(perms, truth_booths, matchups)"
   ]
  },
  {
   "cell_type": "markdown",
   "metadata": {},
   "source": [
    "#### Week 2 Matchup"
   ]
  },
  {
   "cell_type": "code",
   "execution_count": null,
   "metadata": {},
   "outputs": [],
   "source": [
    "matchups.append([(\"Stacy\", \"Hunter\"),\n",
    "                  (\"Kiki\", \"Austin\"),\n",
    "                  (\"Kayla\", \"Connor\"),\n",
    "                  (\"Cheyene\", \"Nelson\"),\n",
    "                  (\"Amanda\", \"Mike\"),\n",
    "                  (\"Britni\", \"Zak\"),\n",
    "                  (\"Melanie\", \"Devin\"),\n",
    "                  (\"Rashida\", \"Tyler\"),\n",
    "                  (\"Chelsey\", \"Alec\"),\n",
    "                  (\"Hannah\", \"Chuck\"),0])\n",
    "perms = generate_remaining_perms(perms, truth_booths, matchups)"
   ]
  },
  {
   "cell_type": "markdown",
   "metadata": {
    "id": "1o5qItiPnjdu"
   },
   "source": [
    "## Week 3 Data"
   ]
  },
  {
   "cell_type": "markdown",
   "metadata": {},
   "source": [
    "#### Week 3 Truth Booth"
   ]
  },
  {
   "cell_type": "code",
   "execution_count": null,
   "metadata": {},
   "outputs": [],
   "source": [
    "truth_booths.append([(\"Kiki\", \"Zak\"), False])\n",
    "perms = generate_remaining_perms(perms, truth_booths, matchups)"
   ]
  },
  {
   "cell_type": "markdown",
   "metadata": {},
   "source": [
    "#### Week 3 Matchup"
   ]
  },
  {
   "cell_type": "code",
   "execution_count": null,
   "metadata": {
    "id": "oN_V-QzonmDT"
   },
   "outputs": [],
   "source": [
    "matchups.append([(\"Stacy\", \"Alec\"),\n",
    "                (\"Kiki\", \"Chuck\"),\n",
    "                (\"Kayla\", \"Mike\"),\n",
    "                (\"Cheyene\", \"Tyler\"),\n",
    "                (\"Amanda\", \"Austin\"),\n",
    "                (\"Britni\", \"Hunter\"),\n",
    "                (\"Melanie\", \"Nelson\"),\n",
    "                (\"Rashida\", \"Devin\"),\n",
    "                (\"Chelsey\", \"Connor\"),\n",
    "                (\"Hannah\", \"Zak\"),3])\n",
    "perms = generate_remaining_perms(perms, truth_booths, matchups)"
   ]
  },
  {
   "cell_type": "markdown",
   "metadata": {
    "id": "EN-KhjHmo6WQ"
   },
   "source": [
    "## Week 4 Data"
   ]
  },
  {
   "cell_type": "markdown",
   "metadata": {},
   "source": [
    "#### Week 4 Truth Booth"
   ]
  },
  {
   "cell_type": "code",
   "execution_count": null,
   "metadata": {
    "id": "lxMIKcX-o9P9"
   },
   "outputs": [],
   "source": [
    "truth_booths.append([('Britni','Chuck'), False])\n",
    "perms = generate_remaining_perms(perms, truth_booths, matchups)"
   ]
  },
  {
   "cell_type": "markdown",
   "metadata": {},
   "source": [
    "#### Week 4 Matchup"
   ]
  },
  {
   "cell_type": "code",
   "execution_count": null,
   "metadata": {},
   "outputs": [],
   "source": [
    "matchups.append([('Stacy', 'Austin'),\n",
    "                  ('Kiki', 'Chuck'),\n",
    "                  ('Kayla', 'Mike'),\n",
    "                  ('Cheyene', 'Zak'),\n",
    "                  ('Amanda', 'Alec'),\n",
    "                  ('Britni', 'Nelson'),\n",
    "                  ('Melanie', 'Tyler'),\n",
    "                  ('Rashida', 'Hunter'),\n",
    "                  ('Chelsey', 'Connor'),\n",
    "                  ('Hannah', 'Devin'), 2])\n",
    "perms = generate_remaining_perms(perms, truth_booths, matchups)"
   ]
  },
  {
   "cell_type": "markdown",
   "metadata": {
    "id": "lyNxG8rOpaGW"
   },
   "source": [
    "## Week 5 Data"
   ]
  },
  {
   "cell_type": "markdown",
   "metadata": {},
   "source": [
    "#### Week 5 Truth Booth"
   ]
  },
  {
   "cell_type": "code",
   "execution_count": null,
   "metadata": {
    "id": "GS3PeYj0pdHU"
   },
   "outputs": [],
   "source": [
    "truth_booths.append([('Chelsey','Connor'), True])\n",
    "perms = generate_remaining_perms(perms, truth_booths, matchups)"
   ]
  },
  {
   "cell_type": "markdown",
   "metadata": {},
   "source": [
    "#### Week 5 Matchup"
   ]
  },
  {
   "cell_type": "code",
   "execution_count": null,
   "metadata": {},
   "outputs": [],
   "source": [
    "matchups.append([('Stacy','Alec'),\n",
    "                  ('Kiki','Chuck'),\n",
    "                  ('Kayla','Zak'),\n",
    "                  ('Cheyene','Devin'),\n",
    "                  ('Amanda','Tyler'),\n",
    "                  ('Britni','Mike'),\n",
    "                  ('Melanie','Hunter'),\n",
    "                  ('Rashida','Nelson'),\n",
    "                  ('Hannah','Austin'),\n",
    "                  ('Chelsey','Connor'),2])\n",
    "perms = generate_remaining_perms(perms, truth_booths, matchups)"
   ]
  },
  {
   "cell_type": "markdown",
   "metadata": {
    "id": "0zRCnNGn4uDj"
   },
   "source": [
    "\n",
    "\n",
    "## Week 6 Data\n",
    "\n"
   ]
  },
  {
   "cell_type": "markdown",
   "metadata": {},
   "source": [
    "#### Week 6 Truth Booth"
   ]
  },
  {
   "cell_type": "code",
   "execution_count": null,
   "metadata": {
    "id": "GS3PeYj0pdHU"
   },
   "outputs": [],
   "source": [
    "truth_booths.append([('Kiki','Chuck'), False])\n",
    "perms = generate_remaining_perms(perms, truth_booths, matchups)"
   ]
  },
  {
   "cell_type": "markdown",
   "metadata": {},
   "source": [
    "#### Week 6 Matchup"
   ]
  },
  {
   "cell_type": "code",
   "execution_count": null,
   "metadata": {},
   "outputs": [],
   "source": [
    "matchups.append([('Stacy','Alec'),\n",
    "                  ('Kiki','Nelson'),\n",
    "                  ('Kayla','Zak'),\n",
    "                  ('Cheyene','Austin'),\n",
    "                  ('Amanda','Chuck'),\n",
    "                  ('Britni','Hunter'),\n",
    "                  ('Melanie','Mike'),\n",
    "                  ('Rashida','Devin'),\n",
    "                  ('Hannah','Tyler'),\n",
    "                  ('Chelsey','Connor'),3])\n",
    "perms = generate_remaining_perms(perms, truth_booths, matchups)"
   ]
  },
  {
   "cell_type": "markdown",
   "metadata": {
    "id": "0zRCnNGn4uDj"
   },
   "source": [
    "## Week 7 Data"
   ]
  },
  {
   "cell_type": "markdown",
   "metadata": {},
   "source": [
    "#### Week 7 Truth Booth"
   ]
  },
  {
   "cell_type": "code",
   "execution_count": null,
   "metadata": {
    "id": "GS3PeYj0pdHU"
   },
   "outputs": [],
   "source": [
    "# truth_booths.append([('',''), ])\n",
    "# perms = generate_remaining_perms(perms, truth_booths, matchups)"
   ]
  },
  {
   "cell_type": "markdown",
   "metadata": {},
   "source": [
    "#### Week 7 Matchup"
   ]
  },
  {
   "cell_type": "code",
   "execution_count": null,
   "metadata": {},
   "outputs": [],
   "source": [
    "# matchups.append([('Stacy',''),\n",
    "#                   ('Kiki',''),\n",
    "#                   ('Kayla',''),\n",
    "#                   ('Cheyene',''),\n",
    "#                   ('Amanda',''),\n",
    "#                   ('Britni',''),\n",
    "#                   ('Melanie',''),\n",
    "#                   ('Rashida',''),\n",
    "#                   ('Hannah',''),\n",
    "#                   ('Chelsey',''),])\n",
    "# perms = generate_remaining_perms(perms, truth_booths, matchups)"
   ]
  },
  {
   "cell_type": "markdown",
   "metadata": {
    "id": "0zRCnNGn4uDj"
   },
   "source": [
    "## Week 8 Data"
   ]
  },
  {
   "cell_type": "markdown",
   "metadata": {},
   "source": [
    "#### Week 8 Truth Booth"
   ]
  },
  {
   "cell_type": "code",
   "execution_count": null,
   "metadata": {
    "id": "GS3PeYj0pdHU",
    "scrolled": false
   },
   "outputs": [],
   "source": [
    "# truth_booths.append([('',''), ])\n",
    "# perms = generate_remaining_perms(perms, truth_booths, matchups)"
   ]
  },
  {
   "cell_type": "markdown",
   "metadata": {},
   "source": [
    "#### Week 8 Matchup"
   ]
  },
  {
   "cell_type": "code",
   "execution_count": null,
   "metadata": {},
   "outputs": [],
   "source": [
    "# matchups.append([('Stacy',''),\n",
    "#                   ('Kiki',''),\n",
    "#                   ('Kayla',''),\n",
    "#                   ('Cheyene',''),\n",
    "#                   ('Amanda',''),\n",
    "#                   ('Britni',''),\n",
    "#                   ('Melanie',''),\n",
    "#                   ('Rashida',''),\n",
    "#                   ('Hannah',''),\n",
    "#                   ('Chelsey',''),])\n",
    "# perms = generate_remaining_perms(perms, truth_booths, matchups)"
   ]
  },
  {
   "cell_type": "markdown",
   "metadata": {
    "id": "0zRCnNGn4uDj"
   },
   "source": [
    "## Week 9 Data"
   ]
  },
  {
   "cell_type": "markdown",
   "metadata": {},
   "source": [
    "#### Week 9 Truth Booth"
   ]
  },
  {
   "cell_type": "code",
   "execution_count": null,
   "metadata": {
    "id": "GS3PeYj0pdHU"
   },
   "outputs": [],
   "source": [
    "# truth_booths.append([(\"\",\"\"), ])\n",
    "# perms = generate_remaining_perms(perms, truth_booths, matchups)"
   ]
  },
  {
   "cell_type": "markdown",
   "metadata": {},
   "source": [
    "#### Week 9 Matchup"
   ]
  },
  {
   "cell_type": "code",
   "execution_count": null,
   "metadata": {},
   "outputs": [],
   "source": [
    "# matchups.append([('Stacy',''),\n",
    "#                   ('Kiki',''),\n",
    "#                   ('Kayla',''),\n",
    "#                   ('Cheyene',''),\n",
    "#                   ('Amanda',''),\n",
    "#                   ('Britni',''),\n",
    "#                   ('Melanie',''),\n",
    "#                   ('Rashida',''),\n",
    "#                   ('Hannah',''),\n",
    "#                   ('Chelsey',''),])\n",
    "# perms = generate_remaining_perms(perms, truth_booths, matchups)"
   ]
  },
  {
   "cell_type": "markdown",
   "metadata": {
    "id": "0zRCnNGn4uDj"
   },
   "source": [
    "## Week 10 Data"
   ]
  },
  {
   "cell_type": "markdown",
   "metadata": {},
   "source": [
    "#### Week 10 Truth Booth"
   ]
  },
  {
   "cell_type": "code",
   "execution_count": null,
   "metadata": {
    "id": "GS3PeYj0pdHU"
   },
   "outputs": [],
   "source": [
    "# truth_booths.append([('',''), ])\n",
    "# perms = generate_remaining_perms(perms, truth_booths, matchups)"
   ]
  },
  {
   "cell_type": "markdown",
   "metadata": {},
   "source": [
    "#### Week 10 Matchup"
   ]
  },
  {
   "cell_type": "code",
   "execution_count": null,
   "metadata": {},
   "outputs": [],
   "source": [
    "# matchups.append([('Stacy',''),\n",
    "#                   ('Kiki',''),\n",
    "#                   ('Kayla',''),\n",
    "#                   ('Cheyene',''),\n",
    "#                   ('Amanda',''),\n",
    "#                   ('Britni',''),\n",
    "#                   ('Melanie',''),\n",
    "#                   ('Rashida',''),\n",
    "#                   ('Hannah',''),\n",
    "#                   ('Chelsey',''),])\n",
    "# perms = generate_remaining_perms(perms, truth_booths, matchups)"
   ]
  }
 ],
 "metadata": {
  "colab": {
   "authorship_tag": "ABX9TyNAUb1/oHL4rX7KYRiB+f0L",
   "collapsed_sections": [],
   "include_colab_link": true,
   "name": "ayto_season_3.ipynb",
   "provenance": []
  },
  "kernelspec": {
   "display_name": "Python 3",
   "language": "python",
   "name": "python3"
  },
  "language_info": {
   "codemirror_mode": {
    "name": "ipython",
    "version": 3
   },
   "file_extension": ".py",
   "mimetype": "text/x-python",
   "name": "python",
   "nbconvert_exporter": "python",
   "pygments_lexer": "ipython3",
   "version": "3.8.6"
  }
 },
 "nbformat": 4,
 "nbformat_minor": 1
}
